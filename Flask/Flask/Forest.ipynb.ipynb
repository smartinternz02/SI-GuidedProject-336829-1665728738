{
  "nbformat": 4,
  "nbformat_minor": 0,
  "metadata": {
    "colab": {
      "provenance": [],
      "collapsed_sections": []
    },
    "kernelspec": {
      "name": "python3",
      "display_name": "Python 3"
    },
    "language_info": {
      "name": "python"
    }
  },
  "cells": [
    {
      "cell_type": "code",
      "execution_count": 7,
      "metadata": {
        "id": "YdZtqyhtw0U1"
      },
      "outputs": [],
      "source": [
        "import numpy as np\n",
        "import tensorflow \n",
        "from tensorflow.keras.models import Sequential\n",
        "from tensorflow.keras import layers \n",
        "from tensorflow.keras.layers import Dense,Flatten\n",
        "from tensorflow.keras.layers import Conv2D,MaxPooling2D \n",
        "from tensorflow.keras.preprocessing.image import ImageDataGenerator\n"
      ]
    },
    {
      "cell_type": "code",
      "source": [
        "train_datagen=ImageDataGenerator(rescale=1./255,shear_range=0.2,zoom_range=0.2,horizontal_flip=True)"
      ],
      "metadata": {
        "id": "BOYnJGaIw7Ti"
      },
      "execution_count": 2,
      "outputs": []
    },
    {
      "cell_type": "code",
      "source": [
        "test_datagen=ImageDataGenerator(rescale=1./255)"
      ],
      "metadata": {
        "id": "zLYNzT1tw7QH"
      },
      "execution_count": 13,
      "outputs": []
    },
    {
      "cell_type": "code",
      "source": [
        "x_train = train_datagen.flow_from_directory(directory=r'/content/drive/MyDrive/forest fire/train_set',target_size=(64,64),batch_size=32,class_mode='categorical')\n",
        "\n",
        "\n",
        "x_test = test_datagen.flow_from_directory(directory=r'/content/drive/MyDrive/forest fire/test_set',target_size=(64,64),batch_size=32,class_mode='categorical')"
      ],
      "metadata": {
        "colab": {
          "base_uri": "https://localhost:8080/"
        },
        "id": "D273DSkgw7NL",
        "outputId": "6fcf4fcf-1054-4ef4-acad-b9f58e629a4e"
      },
      "execution_count": 14,
      "outputs": [
        {
          "output_type": "stream",
          "name": "stdout",
          "text": [
            "Found 450 images belonging to 2 classes.\n",
            "Found 121 images belonging to 2 classes.\n"
          ]
        }
      ]
    },
    {
      "cell_type": "code",
      "source": [
        "print(x_train.class_indices)"
      ],
      "metadata": {
        "colab": {
          "base_uri": "https://localhost:8080/"
        },
        "id": "BMVH6Xpxw7KV",
        "outputId": "30850a68-04eb-4d2b-8fcd-bcba70d51b59"
      },
      "execution_count": 15,
      "outputs": [
        {
          "output_type": "stream",
          "name": "stdout",
          "text": [
            "{'forest': 0, 'with fire': 1}\n"
          ]
        }
      ]
    },
    {
      "cell_type": "code",
      "source": [
        "from collections import Counter as c\n",
        "c(x_train.labels)"
      ],
      "metadata": {
        "colab": {
          "base_uri": "https://localhost:8080/"
        },
        "id": "Lvh9Jo70w7HB",
        "outputId": "2ad404b9-6f2f-4ee2-9c18-df95e9aa867a"
      },
      "execution_count": 16,
      "outputs": [
        {
          "output_type": "execute_result",
          "data": {
            "text/plain": [
              "Counter({0: 295, 1: 155})"
            ]
          },
          "metadata": {},
          "execution_count": 16
        }
      ]
    },
    {
      "cell_type": "code",
      "source": [
        "\n",
        "model=Sequential()\n",
        "\n",
        "model.add(Conv2D(32,(3,3),input_shape=(64,64,3),activation='relu'))\n",
        "model.add(MaxPooling2D(pool_size=(2,2))) \n",
        "\n",
        "# model.add(Conv2D(32,(3,3),activation='relu'))\n",
        "# model.add(MaxPooling2D(pool_size=(2,2)))\n",
        "                            \n",
        "model.add(Flatten())\n",
        "model.add(Dense(32))\n",
        "model.add(Dense(2,activation='softmax'))\n"
      ],
      "metadata": {
        "id": "m9ZrQTnXw7EU"
      },
      "execution_count": 18,
      "outputs": []
    },
    {
      "cell_type": "code",
      "source": [
        "model.summary()"
      ],
      "metadata": {
        "colab": {
          "base_uri": "https://localhost:8080/"
        },
        "id": "JD-4EQgSw7Bd",
        "outputId": "5d9a3529-14e5-41e3-bb95-5e526204f9e1"
      },
      "execution_count": 19,
      "outputs": [
        {
          "output_type": "stream",
          "name": "stdout",
          "text": [
            "Model: \"sequential\"\n",
            "_________________________________________________________________\n",
            " Layer (type)                Output Shape              Param #   \n",
            "=================================================================\n",
            " conv2d (Conv2D)             (None, 62, 62, 32)        896       \n",
            "                                                                 \n",
            " max_pooling2d (MaxPooling2D  (None, 31, 31, 32)       0         \n",
            " )                                                               \n",
            "                                                                 \n",
            " flatten (Flatten)           (None, 30752)             0         \n",
            "                                                                 \n",
            " dense (Dense)               (None, 32)                984096    \n",
            "                                                                 \n",
            " dense_1 (Dense)             (None, 2)                 66        \n",
            "                                                                 \n",
            "=================================================================\n",
            "Total params: 985,058\n",
            "Trainable params: 985,058\n",
            "Non-trainable params: 0\n",
            "_________________________________________________________________\n"
          ]
        }
      ]
    },
    {
      "cell_type": "code",
      "source": [
        "\n",
        "model.compile(optimizer='adam',loss='binary_crossentropy',metrics=['accuracy'])\n"
      ],
      "metadata": {
        "id": "M21h2aidw6-Y"
      },
      "execution_count": 20,
      "outputs": []
    },
    {
      "cell_type": "code",
      "source": [
        "len(x_train)"
      ],
      "metadata": {
        "colab": {
          "base_uri": "https://localhost:8080/"
        },
        "id": "OYrY9ajRw6wb",
        "outputId": "003408c1-875e-4bcf-ee28-26396f8307cb"
      },
      "execution_count": 21,
      "outputs": [
        {
          "output_type": "execute_result",
          "data": {
            "text/plain": [
              "15"
            ]
          },
          "metadata": {},
          "execution_count": 21
        }
      ]
    },
    {
      "cell_type": "code",
      "source": [
        "model.fit(x_train,steps_per_epoch=len(x_train),validation_data=x_test,validation_steps=len(x_test),epochs=10)"
      ],
      "metadata": {
        "colab": {
          "base_uri": "https://localhost:8080/"
        },
        "id": "KNYCvgzBx2oF",
        "outputId": "1a605759-e142-46fd-d8ab-7f3af087b5f5"
      },
      "execution_count": 22,
      "outputs": [
        {
          "output_type": "stream",
          "name": "stdout",
          "text": [
            "Epoch 1/10\n",
            "15/15 [==============================] - 177s 12s/step - loss: 0.5011 - accuracy: 0.7867 - val_loss: 0.1492 - val_accuracy: 0.9587\n",
            "Epoch 2/10\n",
            "15/15 [==============================] - 21s 1s/step - loss: 0.2150 - accuracy: 0.9244 - val_loss: 0.0803 - val_accuracy: 0.9917\n",
            "Epoch 3/10\n",
            "15/15 [==============================] - 20s 1s/step - loss: 0.2161 - accuracy: 0.9044 - val_loss: 0.0790 - val_accuracy: 0.9752\n",
            "Epoch 4/10\n",
            "15/15 [==============================] - 20s 1s/step - loss: 0.1876 - accuracy: 0.9111 - val_loss: 0.0733 - val_accuracy: 0.9752\n",
            "Epoch 5/10\n",
            "15/15 [==============================] - 20s 1s/step - loss: 0.2067 - accuracy: 0.9133 - val_loss: 0.0589 - val_accuracy: 0.9917\n",
            "Epoch 6/10\n",
            "15/15 [==============================] - 24s 2s/step - loss: 0.1597 - accuracy: 0.9333 - val_loss: 0.0453 - val_accuracy: 0.9917\n",
            "Epoch 7/10\n",
            "15/15 [==============================] - 20s 1s/step - loss: 0.1352 - accuracy: 0.9511 - val_loss: 0.0397 - val_accuracy: 0.9917\n",
            "Epoch 8/10\n",
            "15/15 [==============================] - 20s 1s/step - loss: 0.1211 - accuracy: 0.9556 - val_loss: 0.0368 - val_accuracy: 0.9917\n",
            "Epoch 9/10\n",
            "15/15 [==============================] - 21s 1s/step - loss: 0.1222 - accuracy: 0.9533 - val_loss: 0.0270 - val_accuracy: 0.9917\n",
            "Epoch 10/10\n",
            "15/15 [==============================] - 20s 1s/step - loss: 0.1170 - accuracy: 0.9444 - val_loss: 0.0281 - val_accuracy: 0.9917\n"
          ]
        },
        {
          "output_type": "execute_result",
          "data": {
            "text/plain": [
              "<keras.callbacks.History at 0x7f396d14bd90>"
            ]
          },
          "metadata": {},
          "execution_count": 22
        }
      ]
    },
    {
      "cell_type": "code",
      "source": [
        "\n",
        "model.save('/content/forest1.h5')"
      ],
      "metadata": {
        "id": "FvNWUMHYx-Fs"
      },
      "execution_count": 26,
      "outputs": []
    },
    {
      "cell_type": "code",
      "source": [
        "from tensorflow.keras.models import load_model\n",
        "from tensorflow.keras.preprocessing import image\n",
        "model = load_model(\"forest.h5\") "
      ],
      "metadata": {
        "id": "JHBmEwIHyE4M"
      },
      "execution_count": null,
      "outputs": []
    },
    {
      "cell_type": "code",
      "source": [
        "img = image.load_img(r\"/content/drive/MyDrive/Forest Fire - Copy/Forest Fire/forest fire/Dataset/train_set/with fire/with fire (2).jpeg\",target_size= (64,64))#loading of the image\n",
        "x = image.img_to_array(img)\n",
        "x = np.expand_dims(x,axis = 0)\n",
        "\n",
        "preds=model.predict(x)\n",
        "preds=np.argmax(preds,axis=1)\n",
        "preds"
      ],
      "metadata": {
        "colab": {
          "base_uri": "https://localhost:8080/"
        },
        "id": "YVqODtCJyKvl",
        "outputId": "0f896982-1492-4fdc-c639-f7d2265ab263"
      },
      "execution_count": 27,
      "outputs": [
        {
          "output_type": "stream",
          "name": "stdout",
          "text": [
            "1/1 [==============================] - 0s 112ms/step\n"
          ]
        },
        {
          "output_type": "execute_result",
          "data": {
            "text/plain": [
              "array([1])"
            ]
          },
          "metadata": {},
          "execution_count": 27
        }
      ]
    },
    {
      "cell_type": "code",
      "source": [
        "index=['Forest','With Fire']\n",
        "result = str(index[preds[0]])\n",
        "result"
      ],
      "metadata": {
        "colab": {
          "base_uri": "https://localhost:8080/",
          "height": 35
        },
        "id": "GAZKTPyeyO97",
        "outputId": "b5087285-efa9-47cd-fc4f-516472ca326a"
      },
      "execution_count": 30,
      "outputs": [
        {
          "output_type": "execute_result",
          "data": {
            "text/plain": [
              "'With Fire'"
            ],
            "application/vnd.google.colaboratory.intrinsic+json": {
              "type": "string"
            }
          },
          "metadata": {},
          "execution_count": 30
        }
      ]
    },
    {
      "cell_type": "code",
      "source": [
        "img = image.load_img(r\"/content/drive/MyDrive/Forest Fire - Copy/Forest Fire/forest fire/Dataset/train_set/with fire/with fire (12).jpg\",target_size= (64,64))#loading of the image\n",
        "x = image.img_to_array(img)\n",
        "x = np.expand_dims(x,axis = 0)\n",
        "preds=model.predict(x)\n",
        "preds=np.argmax(preds,axis=1)\n",
        "preds"
      ],
      "metadata": {
        "colab": {
          "base_uri": "https://localhost:8080/"
        },
        "id": "JkNPHFyhyTPf",
        "outputId": "21dbdeba-f282-4f2d-8878-cd728d38098b"
      },
      "execution_count": 32,
      "outputs": [
        {
          "output_type": "stream",
          "name": "stdout",
          "text": [
            "1/1 [==============================] - 0s 21ms/step\n"
          ]
        },
        {
          "output_type": "execute_result",
          "data": {
            "text/plain": [
              "array([1])"
            ]
          },
          "metadata": {},
          "execution_count": 32
        }
      ]
    },
    {
      "cell_type": "code",
      "source": [
        "index=['Forest','With Fire']\n",
        "result=str(index[preds[0]])\n",
        "result"
      ],
      "metadata": {
        "colab": {
          "base_uri": "https://localhost:8080/",
          "height": 35
        },
        "id": "08-JQOzpyXb4",
        "outputId": "98120c60-d780-4fd2-c5a3-50c645e699a1"
      },
      "execution_count": 34,
      "outputs": [
        {
          "output_type": "execute_result",
          "data": {
            "text/plain": [
              "'With Fire'"
            ],
            "application/vnd.google.colaboratory.intrinsic+json": {
              "type": "string"
            }
          },
          "metadata": {},
          "execution_count": 34
        }
      ]
    },
    {
      "cell_type": "code",
      "source": [
        "from google.colab import drive\n",
        "drive.mount('/content/drive')"
      ],
      "metadata": {
        "id": "G8cAM_SJCBcN"
      },
      "execution_count": null,
      "outputs": []
    },
    {
      "cell_type": "code",
      "source": [
        "img = image.load_img(r\"/content/drive/MyDrive/Forest Fire - Copy/Forest Fire/forest fire/Dataset/test_set/forest/beautiful_mountain_forest_wallpaper_1920x1200.jpg\",target_size= (64,64))\n",
        "x = image.img_to_array(img)\n",
        "x = np.expand_dims(x,axis = 0)\n",
        "preds=model.predict(x)\n",
        "pred=np.argmax(preds,axis=1)\n",
        "index=['Forest','With Fire']\n",
        "result=str(index[pred[0]])\n",
        "result"
      ],
      "metadata": {
        "colab": {
          "base_uri": "https://localhost:8080/",
          "height": 53
        },
        "id": "RGMbjgFpyYru",
        "outputId": "cc4b398d-1097-44b2-f244-0b8f727defaf"
      },
      "execution_count": 37,
      "outputs": [
        {
          "output_type": "stream",
          "name": "stdout",
          "text": [
            "1/1 [==============================] - 0s 21ms/step\n"
          ]
        },
        {
          "output_type": "execute_result",
          "data": {
            "text/plain": [
              "'Forest'"
            ],
            "application/vnd.google.colaboratory.intrinsic+json": {
              "type": "string"
            }
          },
          "metadata": {},
          "execution_count": 37
        }
      ]
    }
  ]
}